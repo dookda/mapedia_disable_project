{
 "cells": [
  {
   "cell_type": "code",
   "execution_count": 3,
   "metadata": {},
   "outputs": [
    {
     "ename": "Exception",
     "evalue": "You don't have PIL installed. Please install PIL or Pillow>=8.1.1",
     "output_type": "error",
     "traceback": [
      "\u001b[0;31m---------------------------------------------------------------------------\u001b[0m",
      "\u001b[0;31mModuleNotFoundError\u001b[0m                       Traceback (most recent call last)",
      "File \u001b[0;32m/usr/local/lib/python3.10/site-packages/instagrapi/mixins/clip.py:15\u001b[0m, in \u001b[0;36m<module>\u001b[0;34m\u001b[0m\n\u001b[1;32m     14\u001b[0m \u001b[39mtry\u001b[39;00m:\n\u001b[0;32m---> 15\u001b[0m     \u001b[39mfrom\u001b[39;00m \u001b[39mPIL\u001b[39;00m \u001b[39mimport\u001b[39;00m Image\n\u001b[1;32m     16\u001b[0m \u001b[39mexcept\u001b[39;00m \u001b[39mImportError\u001b[39;00m:\n",
      "\u001b[0;31mModuleNotFoundError\u001b[0m: No module named 'PIL'",
      "\nDuring handling of the above exception, another exception occurred:\n",
      "\u001b[0;31mException\u001b[0m                                 Traceback (most recent call last)",
      "\u001b[1;32m/Users/sakdahomhuan/Dev/mapedia_disable_project/python/app.ipynb Cell 1\u001b[0m in \u001b[0;36m<cell line: 1>\u001b[0;34m()\u001b[0m\n\u001b[0;32m----> <a href='vscode-notebook-cell:/Users/sakdahomhuan/Dev/mapedia_disable_project/python/app.ipynb#W0sZmlsZQ%3D%3D?line=0'>1</a>\u001b[0m \u001b[39mfrom\u001b[39;00m \u001b[39minstagrapi\u001b[39;00m \u001b[39mimport\u001b[39;00m Client\n",
      "File \u001b[0;32m/usr/local/lib/python3.10/site-packages/instagrapi/__init__.py:12\u001b[0m, in \u001b[0;36m<module>\u001b[0;34m\u001b[0m\n\u001b[1;32m     10\u001b[0m \u001b[39mfrom\u001b[39;00m \u001b[39minstagrapi\u001b[39;00m\u001b[39m.\u001b[39;00m\u001b[39mmixins\u001b[39;00m\u001b[39m.\u001b[39;00m\u001b[39mbloks\u001b[39;00m \u001b[39mimport\u001b[39;00m BloksMixin\n\u001b[1;32m     11\u001b[0m \u001b[39mfrom\u001b[39;00m \u001b[39minstagrapi\u001b[39;00m\u001b[39m.\u001b[39;00m\u001b[39mmixins\u001b[39;00m\u001b[39m.\u001b[39;00m\u001b[39mchallenge\u001b[39;00m \u001b[39mimport\u001b[39;00m ChallengeResolveMixin\n\u001b[0;32m---> 12\u001b[0m \u001b[39mfrom\u001b[39;00m \u001b[39minstagrapi\u001b[39;00m\u001b[39m.\u001b[39;00m\u001b[39mmixins\u001b[39;00m\u001b[39m.\u001b[39;00m\u001b[39mclip\u001b[39;00m \u001b[39mimport\u001b[39;00m DownloadClipMixin, UploadClipMixin\n\u001b[1;32m     13\u001b[0m \u001b[39mfrom\u001b[39;00m \u001b[39minstagrapi\u001b[39;00m\u001b[39m.\u001b[39;00m\u001b[39mmixins\u001b[39;00m\u001b[39m.\u001b[39;00m\u001b[39mcollection\u001b[39;00m \u001b[39mimport\u001b[39;00m CollectionMixin\n\u001b[1;32m     14\u001b[0m \u001b[39mfrom\u001b[39;00m \u001b[39minstagrapi\u001b[39;00m\u001b[39m.\u001b[39;00m\u001b[39mmixins\u001b[39;00m\u001b[39m.\u001b[39;00m\u001b[39mcomment\u001b[39;00m \u001b[39mimport\u001b[39;00m CommentMixin\n",
      "File \u001b[0;32m/usr/local/lib/python3.10/site-packages/instagrapi/mixins/clip.py:17\u001b[0m, in \u001b[0;36m<module>\u001b[0;34m\u001b[0m\n\u001b[1;32m     15\u001b[0m     \u001b[39mfrom\u001b[39;00m \u001b[39mPIL\u001b[39;00m \u001b[39mimport\u001b[39;00m Image\n\u001b[1;32m     16\u001b[0m \u001b[39mexcept\u001b[39;00m \u001b[39mImportError\u001b[39;00m:\n\u001b[0;32m---> 17\u001b[0m     \u001b[39mraise\u001b[39;00m \u001b[39mException\u001b[39;00m(\u001b[39m\"\u001b[39m\u001b[39mYou don\u001b[39m\u001b[39m'\u001b[39m\u001b[39mt have PIL installed. Please install PIL or Pillow>=8.1.1\u001b[39m\u001b[39m\"\u001b[39m)\n\u001b[1;32m     20\u001b[0m \u001b[39mclass\u001b[39;00m \u001b[39mDownloadClipMixin\u001b[39;00m:\n\u001b[1;32m     21\u001b[0m     \u001b[39m\"\"\"\u001b[39;00m\n\u001b[1;32m     22\u001b[0m \u001b[39m    Helpers to download CLIP videos\u001b[39;00m\n\u001b[1;32m     23\u001b[0m \u001b[39m    \"\"\"\u001b[39;00m\n",
      "\u001b[0;31mException\u001b[0m: You don't have PIL installed. Please install PIL or Pillow>=8.1.1"
     ]
    }
   ],
   "source": [
    "from instagrapi import Client\n"
   ]
  }
 ],
 "metadata": {
  "kernelspec": {
   "display_name": "Python 3.9.13 64-bit",
   "language": "python",
   "name": "python3"
  },
  "language_info": {
   "codemirror_mode": {
    "name": "ipython",
    "version": 3
   },
   "file_extension": ".py",
   "mimetype": "text/x-python",
   "name": "python",
   "nbconvert_exporter": "python",
   "pygments_lexer": "ipython3",
   "version": "3.10.6"
  },
  "orig_nbformat": 4,
  "vscode": {
   "interpreter": {
    "hash": "aee8b7b246df8f9039afb4144a1f6fd8d2ca17a180786b69acc140d282b71a49"
   }
  }
 },
 "nbformat": 4,
 "nbformat_minor": 2
}
